{
 "cells": [
  {
   "cell_type": "code",
   "execution_count": null,
   "id": "e22ec47d",
   "metadata": {},
   "outputs": [],
   "source": [
    "# Dependencies and Setup\n",
    "import matplotlib.pyplot as plt\n",
    "import pandas as pd\n",
    "import numpy as np\n",
    "import requests\n",
    "import os\n",
    "import pprint\n",
    "import pymongo"
   ]
  },
  {
   "cell_type": "code",
   "execution_count": null,
   "id": "f14e7943",
   "metadata": {},
   "outputs": [],
   "source": [
    "api_key = \"YOUR API KEY\""
   ]
  },
  {
   "cell_type": "code",
   "execution_count": null,
   "id": "a07b4565",
   "metadata": {},
   "outputs": [],
   "source": [
    "# Create base url and get json data\n",
    "base_url = f\"https://api.usa.gov/crime/fbi/sapi//api/agencies?API_KEY={api_key}\"\n",
    "response = requests.get(base_url).json()"
   ]
  },
  {
   "cell_type": "code",
   "execution_count": null,
   "id": "824d8794",
   "metadata": {},
   "outputs": [],
   "source": [
    "# Show only Georgia results\n",
    "GA_data = response[\"GA\"]\n",
    "GA_data"
   ]
  },
  {
   "cell_type": "code",
   "execution_count": null,
   "id": "cd48a180",
   "metadata": {},
   "outputs": [],
   "source": [
    "# Connect to database\n",
    "client = pymongo.MongoClient('mongodb://localhost:27017')\n",
    "db = client.CrimeAgencyData\n",
    "\n",
    "# Deletes any existing database to prevent data from duplicating each time script is executed\n",
    "client.drop_database('CrimeAgencyData')\n",
    "\n",
    "# Loop through the GA_data\n",
    "for x in GA_data:\n",
    "    agency_data = [\n",
    "        {\n",
    "            \"ORI\" : GA_data[x][\"ori\"],\n",
    "            \"Agency Name\" : GA_data[x][\"agency_name\"],\n",
    "            \"County\" : GA_data[x][\"county_name\"],\n",
    "            \"Latitude\" : GA_data[x][\"latitude\"],\n",
    "            \"Longitude\" : GA_data[x][\"longitude\"]\n",
    "        }\n",
    "    ]\n",
    "    \n",
    "    # Add entry to the database\n",
    "    db.destination.insert_many(agency_data)\n",
    "    pprint.pprint(agency_data)"
   ]
  },
  {
   "cell_type": "code",
   "execution_count": null,
   "id": "576dffa0",
   "metadata": {},
   "outputs": [],
   "source": []
  }
 ],
 "metadata": {
  "kernelspec": {
   "display_name": "Python 3 (ipykernel)",
   "language": "python",
   "name": "python3"
  },
  "language_info": {
   "codemirror_mode": {
    "name": "ipython",
    "version": 3
   },
   "file_extension": ".py",
   "mimetype": "text/x-python",
   "name": "python",
   "nbconvert_exporter": "python",
   "pygments_lexer": "ipython3",
   "version": "3.9.7"
  }
 },
 "nbformat": 4,
 "nbformat_minor": 5
}
