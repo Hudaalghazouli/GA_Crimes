{
 "cells": [
  {
   "cell_type": "code",
   "execution_count": 115,
   "id": "db2174a6",
   "metadata": {},
   "outputs": [],
   "source": [
    "# Import dependencies\n",
    "import pandas as pd\n",
    "import requests\n",
    "import time\n",
    "import numpy as np\n",
    "from config import crime_api_key\n",
    "from bs4 import BeautifulSoup\n",
    "from splinter import Browser\n",
    "from webdriver_manager.chrome import ChromeDriverManager\n",
    "from selenium import webdriver\n",
    "import re\n",
    "import warnings\n",
    "import pprint\n",
    "import json"
   ]
  },
  {
   "cell_type": "code",
   "execution_count": 121,
   "id": "7cc67db7",
   "metadata": {
    "scrolled": true
   },
   "outputs": [],
   "source": [
    "# Read agencies csv to get all of GA ORIs \n",
    "agenciesList = pd.read_csv('agencies.csv')\n",
    "ga_ORI = agenciesList['ORI']\n",
    "ga_ORI\n",
    "\n",
    "\n",
    "ori = ['GA0010000', 'GA0010100', 'GA0020000']\n",
    "startYear = 2017\n",
    "endYear = 2020\n",
    "\n",
    "crime_baseURL = f'https://api.usa.gov/crime/fbi/sapi/api/summarized/agencies/{ori}/offenses/{startYear}/{endYear}?API_KEY={crime_api_key}'\n",
    "\n",
    "json_data = []\n",
    "\n",
    "for o in range(len(ori)):\n",
    "#     print(ori[o])\n",
    "#     print(f'https://api.usa.gov/crime/fbi/sapi/api/summarized/agencies/{ori[o]}/offenses/{startYear}/{endYear}?API_KEY={crime_api_key}')\n",
    "    response = requests.get(f'https://api.usa.gov/crime/fbi/sapi/api/summarized/agencies/{ori[o]}/offenses/{startYear}/{endYear}?API_KEY={crime_api_key}').json()\n",
    "#     pprint.pprint(response)\n",
    "    json_data.append(response)\n",
    "    o += 1\n",
    "\n",
    "# pprint.pprint(json_data)\n",
    "\n"
   ]
  },
  {
   "cell_type": "code",
   "execution_count": 123,
   "id": "8f1a9ffd",
   "metadata": {},
   "outputs": [],
   "source": [
    "# # Serializing json\n",
    "# json_object = json.dumps(dictionary, indent=4)\n",
    " \n",
    "# # Writing to sample.json\n",
    "# with open(\"sample.json\", \"w\") as outfile:\n",
    "#     outfile.write(json_object)\n",
    "\n",
    "# data_file = json.dumps(json_data, indent= 4)\n",
    "\n",
    "# with open(\"test_data.json\", \"w\") as outfile:\n",
    "#     outfile.write(data_file)"
   ]
  },
  {
   "cell_type": "code",
   "execution_count": 41,
   "id": "6a34a683",
   "metadata": {},
   "outputs": [],
   "source": [
    "# URLS\n",
    "# crime_api_key = jZ5lKubhm3BRDib4VPLkZiiWLnjZSRIpfyMqK5OQ\n",
    "\n",
    "# https://api.usa.gov/crime/fbi/sapi/api/summarized/agencies/GA0010000/offenses/2017/2020?\n",
    "#API_KEY=jZ5lKubhm3BRDib4VPLkZiiWLnjZSRIpfyMqK5OQ\n",
    "\n",
    "# https://api.usa.gov/crime/fbi/sapi/api/summarized/agencies/{ori}/offenses/2017/2020?API_KEY={crime_api_key}\n",
    "\n",
    "\n",
    "\n",
    "# crime_baseURL = f'https://api.usa.gov/crime/fbi/sapi/api/summarized/agencies/{ga_ORI}/offenses/{startYear}/{endYear}?API_KEY={crime_api_key}'\n",
    "\n",
    "# Test for response code\n",
    "# response = requests.get(crime_baseURL)\n",
    "# response.json()"
   ]
  },
  {
   "cell_type": "code",
   "execution_count": 124,
   "id": "cb1b0ba6",
   "metadata": {
    "scrolled": true
   },
   "outputs": [],
   "source": [
    "# list1 = []\n",
    "\n",
    "# for o in range(len(ori)):\n",
    "#     response = requests.get(f'https://api.usa.gov/crime/fbi/sapi/api/summarized/agencies/{ori[o]}/offenses/{startYear}/{endYear}?API_KEY={crime_api_key}').json()\n",
    "#     list1.append(response)\n",
    "#     o += 1\n",
    "# pprint.pprint(list1)\n",
    "\n",
    "# URL configs\n",
    "\n",
    "# ori = 'GA0010000'\n",
    "startYear = 2017\n",
    "endYear = 2020\n",
    "crime_baseURL = f'https://api.usa.gov/crime/fbi/sapi/api/summarized/agencies/{ga_ORI}/offenses/\\\n",
    "{startYear}/{endYear}?API_KEY={crime_api_key}'\n",
    "\n",
    "# Create loop to find all crime data for all ORIs in GA from 2017 to 2020\n",
    "crime_data = []\n",
    "\n",
    "for x in range(len(ga_ORI)):\n",
    "    response = requests.get(f'https://api.usa.gov/crime/fbi/sapi/api/summarized/agencies/{ga_ORI[x]}/offenses/{startYear}/{endYear}?API_KEY={crime_api_key}').json()\n",
    "    crime_data.append(response)\n",
    "    x += 1\n",
    "\n",
    "# data_file = json.dumps(json_data, indent= 4)\n",
    "\n",
    "# with open(\"GA_crimeData.json\", \"w\") as outfile:\n",
    "#     outfile.write(data_file)"
   ]
  },
  {
   "cell_type": "code",
   "execution_count": 126,
   "id": "9fe9cf49",
   "metadata": {},
   "outputs": [],
   "source": [
    "data_file1 = json.dumps(crime_data, indent= 4)\n",
    "\n",
    "with open(\"GA_crimeData.json\", \"w\") as outfile:\n",
    "    outfile.write(data_file1)"
   ]
  }
 ],
 "metadata": {
  "kernelspec": {
   "display_name": "PythonData",
   "language": "python",
   "name": "pythondata"
  },
  "language_info": {
   "codemirror_mode": {
    "name": "ipython",
    "version": 3
   },
   "file_extension": ".py",
   "mimetype": "text/x-python",
   "name": "python",
   "nbconvert_exporter": "python",
   "pygments_lexer": "ipython3",
   "version": "3.7.13"
  }
 },
 "nbformat": 4,
 "nbformat_minor": 5
}
